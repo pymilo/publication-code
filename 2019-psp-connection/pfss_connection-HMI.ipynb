{
 "cells": [
  {
   "cell_type": "code",
   "execution_count": 1,
   "metadata": {},
   "outputs": [
    {
     "name": "stderr",
     "output_type": "stream",
     "text": [
      "/home/oliveros/anaconda3/lib/python3.6/site-packages/ipyparallel/client/client.py:459: RuntimeWarning: \n",
      "            Controller appears to be listening on localhost, but not on this machine.\n",
      "            If this is true, you should specify Client(...,sshserver='you@amaterasu')\n",
      "            or instruct your controller to listen on an external IP.\n",
      "  RuntimeWarning)\n"
     ]
    },
    {
     "data": {
      "text/plain": [
       "[0, 1, 2, 3, 4, 5, 6, 7, 8, 9, 10, 11, 12, 13, 14, 15]"
      ]
     },
     "execution_count": 1,
     "metadata": {},
     "output_type": "execute_result"
    }
   ],
   "source": [
    "import ipyparallel as ipp\n",
    "\n",
    "# attach to a running cluster\n",
    "\n",
    "c = ipp.Client()\n",
    "#print('profile:', c.profile)\n",
    "#print(\"IDs:\", c.ids) # Print process id numbers\n",
    "v = c[:]\n",
    "\n",
    "c.ids"
   ]
  },
  {
   "cell_type": "code",
   "execution_count": 2,
   "metadata": {},
   "outputs": [],
   "source": [
    "from datetime import datetime, timedelta\n",
    "import numpy as np\n",
    "\n",
    "import matplotlib\n",
    "import matplotlib.pyplot as plt\n",
    "import matplotlib.dates as mdates\n",
    "import matplotlib.patches as mpatch\n",
    "import matplotlib.ticker as mticker\n",
    "from matplotlib import gridspec\n",
    "\n",
    "import heliopy.data.spice as spicedata\n",
    "import heliopy.spice as spice\n",
    "\n",
    "import sunpy.map\n",
    "from sunpy.coordinates import frames\n",
    "\n",
    "\n",
    "import pfsspy\n",
    "\n",
    "import astropy.units as u\n",
    "import astropy.constants as const\n",
    "import astropy.coordinates as coord\n",
    "\n",
    "import helpers\n",
    "import sunpy.coordinates.ephemeris as sce\n",
    "\n",
    "matplotlib.rcParams['axes.titlesize'] = 14\n",
    "matplotlib.rcParams['axes.labelsize'] = 14\n",
    "matplotlib.rcParams['figure.titlesize'] = 14\n",
    "matplotlib.rcParams['xtick.labelsize'] = 12\n",
    "matplotlib.rcParams['ytick.labelsize'] = 12"
   ]
  },
  {
   "cell_type": "code",
   "execution_count": 3,
   "metadata": {},
   "outputs": [],
   "source": [
    "#helpers.download_gong_maps()"
   ]
  },
  {
   "cell_type": "markdown",
   "metadata": {},
   "source": [
    "Generate PSP trajectory\n",
    "---"
   ]
  },
  {
   "cell_type": "code",
   "execution_count": 4,
   "metadata": {},
   "outputs": [],
   "source": [
    "for kernel in ['psp', 'planet_trajectories', 'planet_orientations', 'psp_pred']:\n",
    "    k = spicedata.get_kernel(kernel)\n",
    "    spice.furnish(k)\n",
    "    \n",
    "psp = spice.Trajectory('SPP')\n",
    "# Create list of times\n",
    "starttime = datetime(2018, 10, 26)\n",
    "endtime = datetime(2018, 11, 30, 1)\n",
    "times = []\n",
    "while starttime < endtime:\n",
    "    times.append(starttime)\n",
    "    starttime += timedelta(hours=2)\n",
    "    \n",
    "psp.generate_positions(times, 'Sun', 'IAU_SUN')\n",
    "psp.change_units(u.au)\n",
    "psp_coord = coord.SkyCoord(x=psp.x, y=psp.y, z=psp.z, frame=frames.HeliographicCarrington,\n",
    "                               representation_type='cartesian')\n",
    "psp_coord.representation_type = 'spherical'"
   ]
  },
  {
   "cell_type": "markdown",
   "metadata": {},
   "source": [
    "Project trajectory onto source surface, correcting for solar rotation\n",
    "---"
   ]
  },
  {
   "cell_type": "code",
   "execution_count": 5,
   "metadata": {},
   "outputs": [],
   "source": [
    "omega_sun = 14.713 * u.deg / u.d\n",
    "vsw = 360 * u.km / u.s\n",
    "def delta_long(r):\n",
    "    return omega_sun * (r - 2.5 * const.R_sun) / vsw\n",
    "\n",
    "psp_solar_lon = psp_coord.lon + delta_long(psp_coord.radius)\n",
    "psp_solar_surface = coord.SkyCoord(radius=psp_coord.radius,\n",
    "                                   lat=psp_coord.lat,\n",
    "                                   lon=psp_solar_lon, frame=frames.HeliographicCarrington,\n",
    "                                   representation_type='spherical')"
   ]
  },
  {
   "cell_type": "markdown",
   "metadata": {},
   "source": [
    "Import HMI magnetogram data\n",
    "---"
   ]
  },
  {
   "cell_type": "markdown",
   "metadata": {},
   "source": [
    "Function to get $B_{r}$ from a HMI magnetogram map"
   ]
  },
  {
   "cell_type": "code",
   "execution_count": 19,
   "metadata": {},
   "outputs": [],
   "source": [
    "def extract_br(m):\n",
    "    br = m.data\n",
    "    br = br - np.nanmean(br)\n",
    "    l0=sce.get_sun_L0(time=m.meta['t_obs'])\n",
    "    # Roll needed to match HMI with GONG \n",
    "    br = np.roll(br, np.int((180 + 120 + l0.value)/np.abs(m.meta['cdelt1'])), axis=1) ## Small HMI\n",
    "    br = np.nan_to_num(br)\n",
    "    #br = np.roll(br, 1800 + 1200, axis=1) ## Big HMI\n",
    "    return br"
   ]
  },
  {
   "cell_type": "markdown",
   "metadata": {},
   "source": [
    "Get data for map closest to perihelion"
   ]
  },
  {
   "cell_type": "code",
   "execution_count": 20,
   "metadata": {},
   "outputs": [
    {
     "name": "stderr",
     "output_type": "stream",
     "text": [
      "/home/oliveros/anaconda3/lib/python3.6/site-packages/sunpy/map/mapbase.py:812: Warning: Unknown value for CUNIT2\n",
      "  Warning)\n"
     ]
    }
   ],
   "source": [
    "filename = 'data/hmi.Mrdailysynframe_small_720s.20181026_120000_TAI.data.fits'\n",
    "\n",
    "hmi_map = sunpy.map.Map(filename) ## Small\n",
    "#hmi_map = sunpy.map.Map('hmi.Mrdailysynframe_720s.20181026_120000_TAI.data.fits') ## Big\n",
    "hmi_map.meta['CUNIT2'] = 'degree'\n",
    "br = extract_br(hmi_map)"
   ]
  },
  {
   "cell_type": "markdown",
   "metadata": {},
   "source": [
    "Set up PFSS input and calculate PFSS solution\n",
    "---"
   ]
  },
  {
   "cell_type": "markdown",
   "metadata": {},
   "source": [
    "Calculate solution for perihelion map"
   ]
  },
  {
   "cell_type": "code",
   "execution_count": 21,
   "metadata": {
    "scrolled": false
   },
   "outputs": [],
   "source": [
    "nr = 60\n",
    "rss = 2.5 \n",
    "peri_input = pfsspy.Input(br, nr, rss)"
   ]
  },
  {
   "cell_type": "code",
   "execution_count": 22,
   "metadata": {},
   "outputs": [],
   "source": [
    "peri_output = pfsspy.pfss(peri_input)"
   ]
  },
  {
   "cell_type": "markdown",
   "metadata": {},
   "source": [
    "Calculate solutions for all other maps. These are used later to asses the variability of the HCS over the perihelion time interval"
   ]
  },
  {
   "cell_type": "code",
   "execution_count": 23,
   "metadata": {},
   "outputs": [
    {
     "name": "stdout",
     "output_type": "stream",
     "text": [
      "Processing data/hmi.Mrdailysynframe_small_720s.20181026_120000_TAI.data.fits\n"
     ]
    }
   ],
   "source": [
    "#map_fnames = helpers.gong_map_fnames()\n",
    "map_fnames = [filename]#helpers.gong_map_fnames()\n",
    "outputs = []\n",
    "for m in map_fnames:\n",
    "    print(f'Processing {m}')\n",
    "    m = sunpy.map.Map(m)\n",
    "    br = extract_br(m)\n",
    "    inp = pfsspy.Input(br, nr, rss)\n",
    "    outputs.append(pfsspy.pfss(inp))"
   ]
  },
  {
   "cell_type": "markdown",
   "metadata": {},
   "source": [
    "Trace field lines using perihelion map\n",
    "---"
   ]
  },
  {
   "cell_type": "code",
   "execution_count": 24,
   "metadata": {},
   "outputs": [],
   "source": [
    "flines = []\n",
    "psp_solar_surface.representation_type = 'cartesian'\n",
    "for i in range(0, len(psp_solar_surface.x)):\n",
    "    seed = np.array([psp_solar_surface.x[i].value,\n",
    "                      psp_solar_surface.y[i].value,\n",
    "                      psp_solar_surface.z[i].value])\n",
    "    seed = seed * 2.499 / np.linalg.norm(seed)\n",
    "    #print(seed)\n",
    "    fline = peri_output.trace(seed, atol=1e-6)\n",
    "    flines.append(fline)"
   ]
  },
  {
   "cell_type": "markdown",
   "metadata": {},
   "source": [
    "Calculate field line polarities and expansion factors\n",
    "---"
   ]
  },
  {
   "cell_type": "code",
   "execution_count": 25,
   "metadata": {},
   "outputs": [],
   "source": [
    "polarities = np.array([fline.polarity for fline in flines], dtype=float)\n",
    "polarities[polarities == 0] = np.nan"
   ]
  },
  {
   "cell_type": "code",
   "execution_count": null,
   "metadata": {},
   "outputs": [],
   "source": [
    "expansion_factors = np.array([fline.expansion_factor for fline in flines])\n",
    "expansion_factors[expansion_factors == None] = np.nan"
   ]
  },
  {
   "cell_type": "markdown",
   "metadata": {},
   "source": [
    "Plot results\n",
    "---"
   ]
  },
  {
   "cell_type": "code",
   "execution_count": null,
   "metadata": {},
   "outputs": [],
   "source": [
    "psp_solar_surface.representation_type = 'spherical'\n",
    "fig = plt.figure(figsize=(5, 8))\n",
    "gs = gridspec.GridSpec(3, 1)\n",
    "ax1 = plt.subplot(gs[0])\n",
    "ax2 = plt.subplot(gs[1:])\n",
    "\n",
    "for ax in (ax1, ax2):\n",
    "    mesh = peri_output.plot_source_surface(ax)\n",
    "    peri_output.plot_pil(ax, colors='tab:green', linestyles='-')\n",
    "\n",
    "# Only plot every 12th field line (ie. every 12 hours)\n",
    "skip = 12\n",
    "ax = ax2\n",
    "for fline in flines[::skip]:\n",
    "    color = {-1: 'tab:red', 1: 'tab:blue'}.get(fline.polarity)\n",
    "    fline.representation_type = 'spherical'\n",
    "    # Plot field line\n",
    "    ax.plot(fline.lon, np.sin(fline.lat), color='k', linewidth=0.5, alpha=0.8)\n",
    "\n",
    "# Plot range of PILs\n",
    "for o in outputs:\n",
    "    o.plot_pil(ax, colors='tab:green', linewidths=1, alpha=0.2, linestyles='--')\n",
    "\n",
    "# Plot PSP trajectory\n",
    "ax.plot(psp_solar_surface.lon[::skip],\n",
    "        np.sin(psp_solar_surface.lat[::skip]),\n",
    "        color='black', marker='+', lw=1, linestyle='--', ms=5)\n",
    "# Add date labels for start and end point\n",
    "#ax.text(46, 0.05, '27/03')\n",
    "#ax.text(1, 0.02, '13/04')\n",
    "\n",
    "left, right = 200, 360\n",
    "bottom, top = -0.5, 0.5\n",
    "ax.set_xlim(left, right)\n",
    "ax.set_ylim(bottom, top)\n",
    "\n",
    "# Add connection lines between axes\n",
    "for lims in ((left, top), (right, top), (left, bottom), (right, bottom)):\n",
    "    con = mpatch.ConnectionPatch(xyA=lims, xyB=lims,\n",
    "                          coordsA='data', coordsB='data',\n",
    "                          axesA=ax1, axesB=ax2,\n",
    "                          shrinkB=0, linestyle='--', alpha=0.8)\n",
    "    ax1.add_artist(con)\n",
    "\n",
    "ax.xaxis.set_major_locator(mticker.MultipleLocator(10))\n",
    "\n",
    "ax = ax1\n",
    "# Plot PSP trajectory\n",
    "ax.plot(psp_solar_surface.lon,\n",
    "    np.sin(psp_solar_surface.lat),\n",
    "    color='black', lw=1, linestyle='-')\n",
    "\n",
    "# Add rectangle for zoomed box\n",
    "ax.add_patch(mpatch.Rectangle((left, bottom),\n",
    "                              right - left,\n",
    "                              top - bottom, facecolor='none',\n",
    "                              linewidth=1, edgecolor='k'))\n",
    "ax.set_title('Source surface magnetic field')\n",
    "    \n",
    "fig.savefig('fline_mapping.pdf', bbox_inches='tight')"
   ]
  },
  {
   "cell_type": "code",
   "execution_count": null,
   "metadata": {
    "scrolled": false
   },
   "outputs": [],
   "source": [
    "fig, axs = plt.subplots(nrows=2, figsize=(5, 6), sharex=True)\n",
    "\n",
    "ax = axs[0]\n",
    "ax.scatter(psp.times, 267.5 + 410 / (expansion_factors**(0.4)), s=2)\n",
    "ax.set_title('Predicted in situ properties')\n",
    "ax.set_ylabel('$v_{sw}$ (km/s)', rotation=-90, labelpad=20)\n",
    "\n",
    "ax = axs[1]\n",
    "ax.scatter(psp.times, polarities, s=2)\n",
    "ax.set_ylabel('sign$(B_{r})$', rotation=-90, labelpad=20)\n",
    "ax.set_ylim(-2, 2)\n",
    "\n",
    "ax.yaxis.set_major_locator(mticker.FixedLocator([-1, 1]))\n",
    "ax.xaxis.set_major_locator(mdates.DayLocator(interval=4))\n",
    "ax.xaxis.set_minor_locator(mdates.DayLocator(interval=1))\n",
    "ax.xaxis.set_major_formatter(mdates.DateFormatter(\"%d-%b\"))\n",
    "ax.set_xlim(psp.times[0], psp.times[-1])\n",
    "\n",
    "for ax in axs:\n",
    "    ax.yaxis.tick_right()\n",
    "    ax.yaxis.set_label_position(\"right\")\n",
    "\n",
    "fig.savefig('tseries.pdf', bbox_inches='tight')"
   ]
  },
  {
   "cell_type": "code",
   "execution_count": null,
   "metadata": {},
   "outputs": [],
   "source": []
  },
  {
   "cell_type": "code",
   "execution_count": 16,
   "metadata": {},
   "outputs": [
    {
     "data": {
      "text/plain": [
       "<matplotlib.image.AxesImage at 0x7effaa375588>"
      ]
     },
     "execution_count": 16,
     "metadata": {},
     "output_type": "execute_result"
    },
    {
     "data": {
      "image/png": "[encoded data removed]",
      "text/plain": [
       "<Figure size 432x288 with 1 Axes>"
      ]
     },
     "metadata": {
      "needs_background": "light"
     },
     "output_type": "display_data"
    }
   ],
   "source": [
    "plt.imshow(br, origin='lower')"
   ]
  },
  {
   "cell_type": "code",
   "execution_count": null,
   "metadata": {},
   "outputs": [],
   "source": []
  },
  {
   "cell_type": "code",
   "execution_count": 17,
   "metadata": {},
   "outputs": [],
   "source": [
    "a = sce.get_sun_L0(time='2018-10-26T12:00:00')"
   ]
  },
  {
   "cell_type": "code",
   "execution_count": 18,
   "metadata": {},
   "outputs": [
    {
     "data": {
      "text/plain": [
       "4.8745878764532335"
      ]
     },
     "execution_count": 18,
     "metadata": {},
     "output_type": "execute_result"
    }
   ],
   "source": [
    "a.value"
   ]
  },
  {
   "cell_type": "code",
   "execution_count": null,
   "metadata": {},
   "outputs": [],
   "source": []
  }
 ],
 "metadata": {
  "kernel_info": {
   "name": "python3"
  },
  "kernelspec": {
   "display_name": "Python 3",
   "language": "python",
   "name": "python3"
  },
  "language_info": {
   "codemirror_mode": {
    "name": "ipython",
    "version": 3
   },
   "file_extension": ".py",
   "mimetype": "text/x-python",
   "name": "python",
   "nbconvert_exporter": "python",
   "pygments_lexer": "ipython3",
   "version": "3.6.8"
  },
  "latex_envs": {
   "LaTeX_envs_menu_present": true,
   "autoclose": false,
   "autocomplete": true,
   "bibliofile": "biblio.bib",
   "cite_by": "apalike",
   "current_citInitial": 1,
   "eqLabelWithNumbers": true,
   "eqNumInitial": 1,
   "hotkeys": {
    "equation": "Ctrl-E",
    "itemize": "Ctrl-I"
   },
   "labels_anchors": false,
   "latex_user_defs": false,
   "report_style_numbering": false,
   "user_envs_cfg": false
  },
  "nteract": {
   "version": "0.12.3"
  }
 },
 "nbformat": 4,
 "nbformat_minor": 2
}
